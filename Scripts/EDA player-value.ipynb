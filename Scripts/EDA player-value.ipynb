{
 "cells": [
  {
   "cell_type": "raw",
   "metadata": {},
   "source": [
    "---\n",
    "title: \"Player Fantsey Value for the Upcoming 2022 Season\"\n",
    "format: html\n",
    "author: Jake Bernards, PhD \n",
    "---"
   ]
  },
  {
   "cell_type": "markdown",
   "metadata": {},
   "source": [
    "# Welcome\n",
    "This project tracks the development of multiple machine learning models aimed to predict fantasy football points for the upcoming 2022-2023 NFL season. All data was scraped from pro-football-reference.com. \n",
    "\n",
    "Source code for this analysis can be found as part of my greater project aimed to predict NFL game outcomes and compare to current betting lines at https://github.com/Bernardsj/NFL_Bets"
   ]
  },
  {
   "cell_type": "code",
   "execution_count": 10,
   "metadata": {},
   "outputs": [],
   "source": [
    "import pandas as pd\n",
    "import seaborn as sns\n",
    "import sqlalchemy\n",
    "from scipy.stats import norm\n",
    "from sklearn.preprocessing import StandardScaler\n",
    "from sklearn.model_selection import train_test_split\n",
    "from scipy import stats\n",
    "import warnings\n",
    "warnings.filterwarnings('ignore')\n",
    "\n",
    "sns.set_theme()"
   ]
  },
  {
   "cell_type": "code",
   "execution_count": 3,
   "metadata": {},
   "outputs": [],
   "source": [
    "# Get Data\n",
    "from sqlalchemy import create_engine\n",
    "engine = engine = create_engine(\"mysql://root:eK5ERE<Sqv+j[0o@localhost/nfl_bets\")\n",
    "\n",
    "\n",
    "player_stats = pd.read_sql(\n",
    "    'SELECT * FROM player_stats_annual', con=engine)"
   ]
  },
  {
   "cell_type": "markdown",
   "metadata": {},
   "source": [
    "# EDA\n",
    "The primary data set I will be using was scrapped from https://www.pro-football-reference.com to include player's season total stats and resulting fantsey points. As the league I'm apart of is a PPR league, we will use this scoring system as our predictor variable. "
   ]
  },
  {
   "cell_type": "code",
   "execution_count": 16,
   "metadata": {},
   "outputs": [],
   "source": [
    "# First things first - split the data\n",
    "player_stats_X = player_stats.drop('ppr_points', axis = 1)\n",
    "player_stats_y = player_stats['ppr_points']\n",
    "\n",
    "X_train, X_test, y_train, y_test = train_test_split(player_stats_X, player_stats_y, test_size=0.33, random_state=42)"
   ]
  },
  {
   "cell_type": "markdown",
   "metadata": {},
   "source": [
    "## PPR Points\n",
    "When examining the breakdown of total points across each season from the year 2000 to 2020 there is a fairly large spread. This shouldn't be suprising as there are a handfull of standout players which produce way more points when compared to league averages. This comparison is even more dramatic when there are players who became injured during the season or acted as a utility player.  "
   ]
  },
  {
   "cell_type": "code",
   "execution_count": 30,
   "metadata": {},
   "outputs": [
    {
     "data": {
      "text/plain": [
       "count    8741.000000\n",
       "mean       71.180986\n",
       "std        84.099198\n",
       "min        -7.000000\n",
       "25%         6.000000\n",
       "50%        35.000000\n",
       "75%       113.000000\n",
       "max       460.000000\n",
       "Name: ppr_points, dtype: float64"
      ]
     },
     "execution_count": 30,
     "metadata": {},
     "output_type": "execute_result"
    }
   ],
   "source": [
    "# descriptive statistics summary\n",
    "y_train.describe()"
   ]
  },
  {
   "cell_type": "markdown",
   "metadata": {},
   "source": [
    "As expected from the descriptive statistic breakdown, there is a good deal of positive skewness we will likely have to deal with when employing our models, however, skewness and kurtosis aren't terrible. \n"
   ]
  },
  {
   "cell_type": "code",
   "execution_count": 34,
   "metadata": {},
   "outputs": [
    {
     "name": "stdout",
     "output_type": "stream",
     "text": [
      "Skewness: 1.366658\n",
      "Kurtosis: 1.203163\n"
     ]
    },
    {
     "data": {
      "image/png": "[encoded data removed]",
      "text/plain": [
       "<Figure size 432x288 with 1 Axes>"
      ]
     },
     "metadata": {
      "needs_background": "light"
     },
     "output_type": "display_data"
    }
   ],
   "source": [
    "#histogram\n",
    "sns.distplot(y_train);\n",
    "\n",
    "#skewness and kurtosis\n",
    "print(\"Skewness: %f\" % y_train.skew())\n",
    "print(\"Kurtosis: %f\" % y_train.kurt())"
   ]
  },
  {
   "cell_type": "code",
   "execution_count": 46,
   "metadata": {},
   "outputs": [],
   "source": [
    "# View relationship between features and y\n",
    "df_train = pd.concat([X_train, y_train], axis = 1)\n",
    "\n",
    "# Num cols\n"
   ]
  },
  {
   "cell_type": "code",
   "execution_count": 59,
   "metadata": {},
   "outputs": [
    {
     "name": "stdout",
     "output_type": "stream",
     "text": [
      "Error in callback <function flush_figures at 0x0000018367EFE550> (for post_execute):\n"
     ]
    },
    {
     "ename": "",
     "evalue": "",
     "output_type": "error",
     "traceback": [
      "\u001b[1;31mFailed to interrupt the Kernel. \n",
      "\u001b[1;31mUnable to start Kernel 'NFL_Bets (Python 3.9.12)' due to connection timeout. \n",
      "View Jupyter <a href='command:jupyter.viewOutput'>log</a> for further details."
     ]
    }
   ],
   "source": [
    "sns.pairplot(df_train, hue = str(df_train.fantasy_position))"
   ]
  },
  {
   "cell_type": "code",
   "execution_count": 53,
   "metadata": {},
   "outputs": [
    {
     "data": {
      "text/html": [
       "<div>\n",
       "<style scoped>\n",
       "    .dataframe tbody tr th:only-of-type {\n",
       "        vertical-align: middle;\n",
       "    }\n",
       "\n",
       "    .dataframe tbody tr th {\n",
       "        vertical-align: top;\n",
       "    }\n",
       "\n",
       "    .dataframe thead th {\n",
       "        text-align: right;\n",
       "    }\n",
       "</style>\n",
       "<table border=\"1\" class=\"dataframe\">\n",
       "  <thead>\n",
       "    <tr style=\"text-align: right;\">\n",
       "      <th></th>\n",
       "      <th>ppr_points</th>\n",
       "      <th>games_started</th>\n",
       "      <th>fantasy_position</th>\n",
       "    </tr>\n",
       "  </thead>\n",
       "  <tbody>\n",
       "    <tr>\n",
       "      <th>1573</th>\n",
       "      <td>81.0</td>\n",
       "      <td>7</td>\n",
       "      <td>WR</td>\n",
       "    </tr>\n",
       "    <tr>\n",
       "      <th>12136</th>\n",
       "      <td>0.0</td>\n",
       "      <td>0</td>\n",
       "      <td></td>\n",
       "    </tr>\n",
       "    <tr>\n",
       "      <th>8857</th>\n",
       "      <td>5.0</td>\n",
       "      <td>0</td>\n",
       "      <td>TE</td>\n",
       "    </tr>\n",
       "    <tr>\n",
       "      <th>2423</th>\n",
       "      <td>93.0</td>\n",
       "      <td>0</td>\n",
       "      <td>RB</td>\n",
       "    </tr>\n",
       "    <tr>\n",
       "      <th>11524</th>\n",
       "      <td>196.0</td>\n",
       "      <td>9</td>\n",
       "      <td>WR</td>\n",
       "    </tr>\n",
       "    <tr>\n",
       "      <th>...</th>\n",
       "      <td>...</td>\n",
       "      <td>...</td>\n",
       "      <td>...</td>\n",
       "    </tr>\n",
       "    <tr>\n",
       "      <th>11964</th>\n",
       "      <td>321.0</td>\n",
       "      <td>15</td>\n",
       "      <td>RB</td>\n",
       "    </tr>\n",
       "    <tr>\n",
       "      <th>5191</th>\n",
       "      <td>152.0</td>\n",
       "      <td>12</td>\n",
       "      <td>WR</td>\n",
       "    </tr>\n",
       "    <tr>\n",
       "      <th>5390</th>\n",
       "      <td>6.0</td>\n",
       "      <td>0</td>\n",
       "      <td>TE</td>\n",
       "    </tr>\n",
       "    <tr>\n",
       "      <th>860</th>\n",
       "      <td>32.0</td>\n",
       "      <td>0</td>\n",
       "      <td>WR</td>\n",
       "    </tr>\n",
       "    <tr>\n",
       "      <th>7270</th>\n",
       "      <td>0.0</td>\n",
       "      <td>0</td>\n",
       "      <td></td>\n",
       "    </tr>\n",
       "  </tbody>\n",
       "</table>\n",
       "<p>8741 rows × 3 columns</p>\n",
       "</div>"
      ],
      "text/plain": [
       "       ppr_points  games_started fantasy_position\n",
       "1573         81.0              7               WR\n",
       "12136         0.0              0                 \n",
       "8857          5.0              0               TE\n",
       "2423         93.0              0               RB\n",
       "11524       196.0              9               WR\n",
       "...           ...            ...              ...\n",
       "11964       321.0             15               RB\n",
       "5191        152.0             12               WR\n",
       "5390          6.0              0               TE\n",
       "860          32.0              0               WR\n",
       "7270          0.0              0                 \n",
       "\n",
       "[8741 rows x 3 columns]"
      ]
     },
     "execution_count": 53,
     "metadata": {},
     "output_type": "execute_result"
    }
   ],
   "source": [
    "pd.concat([df_train.ppr_points, df_train.games_started, df_train.fantasy_position], axis = 1)\n"
   ]
  },
  {
   "cell_type": "code",
   "execution_count": null,
   "metadata": {},
   "outputs": [],
   "source": []
  }
 ],
 "metadata": {
  "kernelspec": {
   "display_name": "Python 3.9.12 ('NFL_Bets')",
   "language": "python",
   "name": "python3"
  },
  "language_info": {
   "codemirror_mode": {
    "name": "ipython",
    "version": 3
   },
   "file_extension": ".py",
   "mimetype": "text/x-python",
   "name": "python",
   "nbconvert_exporter": "python",
   "pygments_lexer": "ipython3",
   "version": "3.9.12"
  },
  "orig_nbformat": 4,
  "vscode": {
   "interpreter": {
    "hash": "0c2b4deeea5978ed1249de6ea88a793c5113012c2f990e336cc0738cd31a7837"
   }
  }
 },
 "nbformat": 4,
 "nbformat_minor": 2
}
